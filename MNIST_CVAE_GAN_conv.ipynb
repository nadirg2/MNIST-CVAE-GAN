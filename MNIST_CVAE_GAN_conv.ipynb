{
  "cells": [
    {
      "cell_type": "code",
      "execution_count": 1,
      "metadata": {
        "id": "BMJL-vnPkqZ1"
      },
      "outputs": [],
      "source": [
        "import torch\n",
        "import torch.nn as nn\n",
        "import torch.optim as optim\n",
        "from torchvision import datasets, transforms\n",
        "from torch.utils.data import DataLoader\n",
        "import matplotlib.pyplot as plt"
      ]
    },
    {
      "cell_type": "markdown",
      "metadata": {
        "id": "_2ddU1XOktrc"
      },
      "source": [
        "# Параметры"
      ]
    },
    {
      "cell_type": "code",
      "execution_count": 2,
      "metadata": {
        "id": "Kuq6_3DQkrtr"
      },
      "outputs": [],
      "source": [
        "latent_dim = 64\n",
        "num_classes = 10\n",
        "img_dim = 28 * 28\n",
        "batch_size = 128\n",
        "epochs = 20\n",
        "device = torch.device(\"cuda\" if torch.cuda.is_available() else \"cpu\")"
      ]
    },
    {
      "cell_type": "markdown",
      "metadata": {
        "id": "KqcFRlUzkxDs"
      },
      "source": [
        "# Загрузка данных"
      ]
    },
    {
      "cell_type": "code",
      "execution_count": 3,
      "metadata": {
        "id": "H-zCR2iAkx-V"
      },
      "outputs": [],
      "source": [
        "transform = transforms.Compose([transforms.ToTensor(), transforms.Normalize((0.5,), (0.5,))])\n",
        "train_dataset = datasets.MNIST(root=\"./data\", train=True, transform=transform, download=True)\n",
        "train_loader = DataLoader(train_dataset, batch_size=batch_size, shuffle=True, drop_last=True)\n",
        "\n",
        "test_dataset = datasets.MNIST(root=\"./data\", train=False, transform=transform, download=True)\n",
        "test_loader = DataLoader(train_dataset, batch_size=batch_size, shuffle=False)"
      ]
    },
    {
      "cell_type": "markdown",
      "metadata": {
        "id": "1xyFe88qk0T_"
      },
      "source": [
        "# Модель Conditional VAE-GAN\n"
      ]
    },
    {
      "cell_type": "code",
      "execution_count": null,
      "metadata": {
        "id": "NDz1323Tk1lL"
      },
      "outputs": [],
      "source": [
        "class ConvEncoder(nn.Module):\n",
        "    def __init__(self, latent_dim, num_classes):\n",
        "        super(ConvEncoder, self).__init__()\n",
        "        self.label_embedding = nn.Embedding(num_classes, num_classes)\n",
        "\n",
        "        # Сверточные слои\n",
        "        self.conv_layers = nn.Sequential(\n",
        "            nn.Conv2d(1, 32, kernel_size=4, stride=2, padding=1),  # 1 канал для изображения\n",
        "            nn.LeakyReLU(0.2),\n",
        "            nn.Conv2d(32, 64, kernel_size=4, stride=2, padding=1),\n",
        "            nn.LeakyReLU(0.2),\n",
        "            nn.Conv2d(64, 128, kernel_size=4, stride=2, padding=1),\n",
        "            nn.LeakyReLU(0.2),\n",
        "            nn.Conv2d(128, 256, kernel_size=4, stride=2, padding=1),\n",
        "            nn.LeakyReLU(0.2)\n",
        "        )\n",
        "\n",
        "        self.adaptive_pool = nn.AdaptiveAvgPool2d((2, 2))  # Приводим к размеру [batch_size, 256, 2, 2]\n",
        "\n",
        "        # Полносвязные слои для mu и logvar\n",
        "        self.fc_mu = nn.Linear(256 * 2 * 2 + num_classes, latent_dim)  # Добавляем метки к латентному вектору\n",
        "        self.fc_logvar = nn.Linear(256 * 2 * 2 + num_classes, latent_dim)\n",
        "\n",
        "    def forward(self, x, labels):\n",
        "        # Применение сверточных слоев\n",
        "        x = self.conv_layers(x)\n",
        "\n",
        "        x = self.adaptive_pool(x)\n",
        "\n",
        "        x = x.view(x.size(0), -1)  # Выравнивание для полносвязного слоя\n",
        "\n",
        "        # Встраивание меток\n",
        "        c = self.label_embedding(labels)\n",
        "\n",
        "        # Конкатенация с латентным вектором\n",
        "        x = torch.cat([x, c], dim=1)\n",
        "\n",
        "        # Получение mu и logvar\n",
        "        mu = self.fc_mu(x)\n",
        "        logvar = self.fc_logvar(x)\n",
        "        return mu, logvar"
      ]
    },
    {
      "cell_type": "code",
      "execution_count": null,
      "metadata": {
        "id": "sZdeSRDxk3-i"
      },
      "outputs": [],
      "source": [
        "class ConvDecoder(nn.Module):\n",
        "    def __init__(self, latent_dim, num_classes):\n",
        "        super(ConvDecoder, self).__init__()\n",
        "        self.label_embedding = nn.Embedding(num_classes, num_classes)\n",
        "\n",
        "        # Полносвязный слой для преобразования латентного вектора\n",
        "        self.fc = nn.Linear(latent_dim + num_classes, 256 * 2 * 2)\n",
        "\n",
        "        # Сверточные слои\n",
        "        self.conv_layers = nn.Sequential(\n",
        "            nn.ConvTranspose2d(256, 128, kernel_size=4, stride=2, padding=1),\n",
        "            nn.BatchNorm2d(128),\n",
        "            nn.ReLU(),\n",
        "            nn.ConvTranspose2d(128, 64, kernel_size=4, stride=2, padding=1),\n",
        "            nn.BatchNorm2d(64),\n",
        "            nn.ReLU(),\n",
        "            nn.ConvTranspose2d(64, 32, kernel_size=4, stride=2, padding=2),\n",
        "            nn.BatchNorm2d(32),\n",
        "            nn.ReLU(),\n",
        "            nn.ConvTranspose2d(32, 1, kernel_size=4, stride=2, padding=1),\n",
        "            nn.Tanh()\n",
        "        )\n",
        "\n",
        "\n",
        "    def forward(self, z, labels):\n",
        "        # Встраивание меток и конкатенация с латентным вектором\n",
        "        c = self.label_embedding(labels)\n",
        "        z = torch.cat([z, c], dim=1)\n",
        "\n",
        "        # Преобразование в пространство для сверток\n",
        "        x = self.fc(z)\n",
        "        x = x.view(-1, 256, 2, 2)\n",
        "\n",
        "        # Применение сверточных слоев\n",
        "        x = self.conv_layers(x)\n",
        "        return x"
      ]
    },
    {
      "cell_type": "code",
      "execution_count": null,
      "metadata": {
        "id": "JVKe1YT3k7Ir"
      },
      "outputs": [],
      "source": [
        "class ConvDiscriminator(nn.Module):\n",
        "    def __init__(self, num_classes):\n",
        "        super(ConvDiscriminator, self).__init__()\n",
        "        self.label_embedding = nn.Embedding(num_classes, num_classes)\n",
        "\n",
        "        # Сверточные слои\n",
        "        self.conv_layers = nn.Sequential(\n",
        "            nn.Conv2d(1, 32, kernel_size=4, stride=2, padding=1),  # 1 канал для изображения\n",
        "            nn.LeakyReLU(0.2),\n",
        "            nn.Conv2d(32, 64, kernel_size=4, stride=2, padding=1),\n",
        "            nn.LeakyReLU(0.2),\n",
        "            nn.Conv2d(64, 128, kernel_size=4, stride=2, padding=1),\n",
        "            nn.LeakyReLU(0.2),\n",
        "            nn.Conv2d(128, 256, kernel_size=4, stride=2, padding=1),\n",
        "            nn.LeakyReLU(0.2)\n",
        "        )\n",
        "\n",
        "        # Полносвязный слой для классификации\n",
        "        self.fc = nn.Sequential(\n",
        "            nn.Linear((256 + num_classes), 1),  # Добавляем метки к латентному вектору\n",
        "            nn.Sigmoid()\n",
        "        )\n",
        "\n",
        "    def forward(self, x, labels):\n",
        "        # Применение сверточных слоев\n",
        "        x = self.conv_layers(x)\n",
        "        x = x.view(x.size(0), -1)\n",
        "\n",
        "        # Встраивание меток\n",
        "        c = self.label_embedding(labels)\n",
        "\n",
        "        # Конкатенация с латентным вектором\n",
        "        x = torch.cat([x, c], dim=1)\n",
        "\n",
        "        x = x.view(x.size(0), -1)  # Выравнивание для полносвязного слоя\n",
        "\n",
        "        # Классификация\n",
        "        return self.fc(x)"
      ]
    },
    {
      "cell_type": "markdown",
      "metadata": {
        "id": "RvFAqeqxk72I"
      },
      "source": [
        "# Инициализация моделей\n"
      ]
    },
    {
      "cell_type": "code",
      "execution_count": 7,
      "metadata": {
        "colab": {
          "base_uri": "https://localhost:8080/"
        },
        "id": "4gx_D4Hmk-d-",
        "outputId": "141b44ba-3563-4248-def4-8c1545a3cc66"
      },
      "outputs": [
        {
          "data": {
            "text/plain": [
              "ConvDiscriminator(\n",
              "  (label_embedding): Embedding(10, 10)\n",
              "  (conv_layers): Sequential(\n",
              "    (0): Conv2d(1, 32, kernel_size=(4, 4), stride=(2, 2), padding=(1, 1))\n",
              "    (1): LeakyReLU(negative_slope=0.2)\n",
              "    (2): Conv2d(32, 64, kernel_size=(4, 4), stride=(2, 2), padding=(1, 1))\n",
              "    (3): LeakyReLU(negative_slope=0.2)\n",
              "    (4): Conv2d(64, 128, kernel_size=(4, 4), stride=(2, 2), padding=(1, 1))\n",
              "    (5): LeakyReLU(negative_slope=0.2)\n",
              "    (6): Conv2d(128, 256, kernel_size=(4, 4), stride=(2, 2), padding=(1, 1))\n",
              "    (7): LeakyReLU(negative_slope=0.2)\n",
              "  )\n",
              "  (fc): Sequential(\n",
              "    (0): Linear(in_features=266, out_features=1, bias=True)\n",
              "    (1): Sigmoid()\n",
              "  )\n",
              ")"
            ]
          },
          "execution_count": 7,
          "metadata": {},
          "output_type": "execute_result"
        }
      ],
      "source": [
        "encoder = ConvEncoder(latent_dim, num_classes).to(device)\n",
        "decoder = ConvDecoder(latent_dim, num_classes).to(device)\n",
        "discriminator = ConvDiscriminator(num_classes).to(device)\n",
        "\n",
        "encoder.train()\n",
        "decoder.train()\n",
        "discriminator.train()"
      ]
    },
    {
      "cell_type": "markdown",
      "metadata": {
        "id": "VhwdkBJ5lAAo"
      },
      "source": [
        "# Оптимизаторы\n"
      ]
    },
    {
      "cell_type": "code",
      "execution_count": 8,
      "metadata": {
        "id": "qAHVhuKflCRZ"
      },
      "outputs": [],
      "source": [
        "optimizer_E = optim.Adam(encoder.parameters(), lr=0.0002)\n",
        "optimizer_D = optim.Adam(decoder.parameters(), lr=0.0005)\n",
        "optimizer_Dis = optim.Adam(discriminator.parameters(), lr=0.00005)"
      ]
    },
    {
      "cell_type": "markdown",
      "metadata": {
        "id": "fBMY88_FlDPe"
      },
      "source": [
        "# Функции потерь\n"
      ]
    },
    {
      "cell_type": "code",
      "execution_count": 9,
      "metadata": {
        "id": "8EXEDoStlEF5"
      },
      "outputs": [],
      "source": [
        "criterion_gan = nn.BCELoss()\n",
        "criterion_recon = nn.MSELoss()"
      ]
    },
    {
      "cell_type": "markdown",
      "metadata": {
        "id": "swhIxaNVlF-o"
      },
      "source": [
        "# Обучение\n"
      ]
    },
    {
      "cell_type": "code",
      "execution_count": 10,
      "metadata": {
        "colab": {
          "base_uri": "https://localhost:8080/"
        },
        "id": "LF1Y2AAIkjcH",
        "outputId": "0dec59e3-4519-4b1f-9883-0bbd0fa06a64"
      },
      "outputs": [
        {
          "name": "stdout",
          "output_type": "stream",
          "text": [
            "Epoch [0/20], Step [0/468], Loss VAE: 1.0970, Loss GAN: 0.6885, Loss D: 1.3921\n",
            "Epoch [0/20], Step [100/468], Loss VAE: 0.4016, Loss GAN: 0.6484, Loss D: 1.5489\n",
            "Epoch [0/20], Step [200/468], Loss VAE: 0.2443, Loss GAN: 0.6594, Loss D: 1.3596\n",
            "Epoch [0/20], Step [300/468], Loss VAE: 0.2470, Loss GAN: 0.6384, Loss D: 1.3760\n",
            "Epoch [0/20], Step [400/468], Loss VAE: 0.2431, Loss GAN: 0.6672, Loss D: 1.3760\n",
            "Epoch [1/20], Step [0/468], Loss VAE: 0.2659, Loss GAN: 0.6735, Loss D: 1.3921\n",
            "Epoch [1/20], Step [100/468], Loss VAE: 0.2526, Loss GAN: 0.6822, Loss D: 1.3867\n",
            "Epoch [1/20], Step [200/468], Loss VAE: 0.2481, Loss GAN: 0.6924, Loss D: 1.3721\n",
            "Epoch [1/20], Step [300/468], Loss VAE: 0.2515, Loss GAN: 0.6803, Loss D: 1.3770\n",
            "Epoch [1/20], Step [400/468], Loss VAE: 0.2419, Loss GAN: 0.6897, Loss D: 1.3800\n",
            "Epoch [2/20], Step [0/468], Loss VAE: 0.2519, Loss GAN: 0.6881, Loss D: 1.3803\n",
            "Epoch [2/20], Step [100/468], Loss VAE: 0.2506, Loss GAN: 0.6862, Loss D: 1.3880\n",
            "Epoch [2/20], Step [200/468], Loss VAE: 0.2374, Loss GAN: 0.6905, Loss D: 1.3916\n",
            "Epoch [2/20], Step [300/468], Loss VAE: 0.2446, Loss GAN: 0.6926, Loss D: 1.3881\n",
            "Epoch [2/20], Step [400/468], Loss VAE: 0.2214, Loss GAN: 0.6932, Loss D: 1.3895\n",
            "Epoch [3/20], Step [0/468], Loss VAE: 0.2334, Loss GAN: 0.6942, Loss D: 1.3851\n",
            "Epoch [3/20], Step [100/468], Loss VAE: 0.2329, Loss GAN: 0.6973, Loss D: 1.3836\n",
            "Epoch [3/20], Step [200/468], Loss VAE: 0.2328, Loss GAN: 0.6933, Loss D: 1.3848\n",
            "Epoch [3/20], Step [300/468], Loss VAE: 0.2272, Loss GAN: 0.6932, Loss D: 1.3823\n",
            "Epoch [3/20], Step [400/468], Loss VAE: 0.2210, Loss GAN: 0.7006, Loss D: 1.3825\n",
            "Epoch [4/20], Step [0/468], Loss VAE: 0.2173, Loss GAN: 0.6883, Loss D: 1.3887\n",
            "Epoch [4/20], Step [100/468], Loss VAE: 0.2061, Loss GAN: 0.7001, Loss D: 1.3876\n",
            "Epoch [4/20], Step [200/468], Loss VAE: 0.2254, Loss GAN: 0.6994, Loss D: 1.3892\n",
            "Epoch [4/20], Step [300/468], Loss VAE: 0.2274, Loss GAN: 0.6853, Loss D: 1.3769\n",
            "Epoch [4/20], Step [400/468], Loss VAE: 0.2186, Loss GAN: 0.7034, Loss D: 1.3876\n",
            "Epoch [5/20], Step [0/468], Loss VAE: 0.2207, Loss GAN: 0.6989, Loss D: 1.3886\n",
            "Epoch [5/20], Step [100/468], Loss VAE: 0.2166, Loss GAN: 0.6885, Loss D: 1.3821\n",
            "Epoch [5/20], Step [200/468], Loss VAE: 0.2032, Loss GAN: 0.6894, Loss D: 1.3811\n",
            "Epoch [5/20], Step [300/468], Loss VAE: 0.2194, Loss GAN: 0.7041, Loss D: 1.3881\n",
            "Epoch [5/20], Step [400/468], Loss VAE: 0.2167, Loss GAN: 0.7030, Loss D: 1.3878\n",
            "Epoch [6/20], Step [0/468], Loss VAE: 0.2166, Loss GAN: 0.7020, Loss D: 1.3844\n",
            "Epoch [6/20], Step [100/468], Loss VAE: 0.2212, Loss GAN: 0.6915, Loss D: 1.3829\n",
            "Epoch [6/20], Step [200/468], Loss VAE: 0.2212, Loss GAN: 0.7241, Loss D: 1.3916\n",
            "Epoch [6/20], Step [300/468], Loss VAE: 0.2185, Loss GAN: 0.6771, Loss D: 1.3836\n",
            "Epoch [6/20], Step [400/468], Loss VAE: 0.2183, Loss GAN: 0.7219, Loss D: 1.3972\n",
            "Epoch [7/20], Step [0/468], Loss VAE: 0.2171, Loss GAN: 0.7083, Loss D: 1.3929\n",
            "Epoch [7/20], Step [100/468], Loss VAE: 0.2174, Loss GAN: 0.6727, Loss D: 1.3813\n",
            "Epoch [7/20], Step [200/468], Loss VAE: 0.2167, Loss GAN: 0.6859, Loss D: 1.3847\n",
            "Epoch [7/20], Step [300/468], Loss VAE: 0.2058, Loss GAN: 0.6796, Loss D: 1.3818\n",
            "Epoch [7/20], Step [400/468], Loss VAE: 0.2068, Loss GAN: 0.6871, Loss D: 1.3799\n",
            "Epoch [8/20], Step [0/468], Loss VAE: 0.2155, Loss GAN: 0.6766, Loss D: 1.3820\n",
            "Epoch [8/20], Step [100/468], Loss VAE: 0.2098, Loss GAN: 0.7071, Loss D: 1.3917\n",
            "Epoch [8/20], Step [200/468], Loss VAE: 0.2030, Loss GAN: 0.7228, Loss D: 1.3896\n",
            "Epoch [8/20], Step [300/468], Loss VAE: 0.2118, Loss GAN: 0.7173, Loss D: 1.3849\n",
            "Epoch [8/20], Step [400/468], Loss VAE: 0.2178, Loss GAN: 0.7275, Loss D: 1.3874\n",
            "Epoch [9/20], Step [0/468], Loss VAE: 0.2109, Loss GAN: 0.6711, Loss D: 1.3821\n",
            "Epoch [9/20], Step [100/468], Loss VAE: 0.2168, Loss GAN: 0.7109, Loss D: 1.3909\n",
            "Epoch [9/20], Step [200/468], Loss VAE: 0.2188, Loss GAN: 0.7110, Loss D: 1.3851\n",
            "Epoch [9/20], Step [300/468], Loss VAE: 0.2178, Loss GAN: 0.7218, Loss D: 1.3881\n",
            "Epoch [9/20], Step [400/468], Loss VAE: 0.2157, Loss GAN: 0.7103, Loss D: 1.3873\n",
            "Epoch [10/20], Step [0/468], Loss VAE: 0.2233, Loss GAN: 0.6985, Loss D: 1.3894\n",
            "Epoch [10/20], Step [100/468], Loss VAE: 0.2127, Loss GAN: 0.6776, Loss D: 1.3817\n",
            "Epoch [10/20], Step [200/468], Loss VAE: 0.2211, Loss GAN: 0.6765, Loss D: 1.3856\n",
            "Epoch [10/20], Step [300/468], Loss VAE: 0.2244, Loss GAN: 0.6830, Loss D: 1.3833\n",
            "Epoch [10/20], Step [400/468], Loss VAE: 0.2136, Loss GAN: 0.7213, Loss D: 1.3895\n",
            "Epoch [11/20], Step [0/468], Loss VAE: 0.2105, Loss GAN: 0.6903, Loss D: 1.3795\n",
            "Epoch [11/20], Step [100/468], Loss VAE: 0.2361, Loss GAN: 0.6740, Loss D: 1.3818\n",
            "Epoch [11/20], Step [200/468], Loss VAE: 0.2176, Loss GAN: 0.7227, Loss D: 1.3893\n",
            "Epoch [11/20], Step [300/468], Loss VAE: 0.2073, Loss GAN: 0.7063, Loss D: 1.3892\n",
            "Epoch [11/20], Step [400/468], Loss VAE: 0.2117, Loss GAN: 0.7080, Loss D: 1.3828\n",
            "Epoch [12/20], Step [0/468], Loss VAE: 0.2123, Loss GAN: 0.6839, Loss D: 1.3806\n",
            "Epoch [12/20], Step [100/468], Loss VAE: 0.2169, Loss GAN: 0.7392, Loss D: 1.3879\n",
            "Epoch [12/20], Step [200/468], Loss VAE: 0.1934, Loss GAN: 0.6121, Loss D: 1.3632\n",
            "Epoch [12/20], Step [300/468], Loss VAE: 0.2165, Loss GAN: 0.6929, Loss D: 1.3808\n",
            "Epoch [12/20], Step [400/468], Loss VAE: 0.2206, Loss GAN: 0.6884, Loss D: 1.3787\n",
            "Epoch [13/20], Step [0/468], Loss VAE: 0.2011, Loss GAN: 0.6902, Loss D: 1.3775\n",
            "Epoch [13/20], Step [100/468], Loss VAE: 0.2114, Loss GAN: 0.6831, Loss D: 1.3851\n",
            "Epoch [13/20], Step [200/468], Loss VAE: 0.2231, Loss GAN: 0.6610, Loss D: 1.3904\n",
            "Epoch [13/20], Step [300/468], Loss VAE: 0.2323, Loss GAN: 0.6827, Loss D: 1.3959\n",
            "Epoch [13/20], Step [400/468], Loss VAE: 0.2084, Loss GAN: 0.7075, Loss D: 1.3811\n",
            "Epoch [14/20], Step [0/468], Loss VAE: 0.2179, Loss GAN: 0.6687, Loss D: 1.3810\n",
            "Epoch [14/20], Step [100/468], Loss VAE: 0.1904, Loss GAN: 0.5369, Loss D: 1.3671\n",
            "Epoch [14/20], Step [200/468], Loss VAE: 0.2064, Loss GAN: 0.5804, Loss D: 1.3674\n",
            "Epoch [14/20], Step [300/468], Loss VAE: 0.2060, Loss GAN: 0.7102, Loss D: 1.3873\n",
            "Epoch [14/20], Step [400/468], Loss VAE: 0.2125, Loss GAN: 0.6664, Loss D: 1.3894\n",
            "Epoch [15/20], Step [0/468], Loss VAE: 0.2181, Loss GAN: 0.6987, Loss D: 1.3847\n",
            "Epoch [15/20], Step [100/468], Loss VAE: 0.2091, Loss GAN: 0.7027, Loss D: 1.3824\n",
            "Epoch [15/20], Step [200/468], Loss VAE: 0.1980, Loss GAN: 0.7029, Loss D: 1.3910\n",
            "Epoch [15/20], Step [300/468], Loss VAE: 0.1926, Loss GAN: 0.6588, Loss D: 1.3754\n",
            "Epoch [15/20], Step [400/468], Loss VAE: 0.2136, Loss GAN: 0.7206, Loss D: 1.3836\n",
            "Epoch [16/20], Step [0/468], Loss VAE: 0.2222, Loss GAN: 0.7140, Loss D: 1.3837\n",
            "Epoch [16/20], Step [100/468], Loss VAE: 0.2123, Loss GAN: 0.7128, Loss D: 1.3898\n",
            "Epoch [16/20], Step [200/468], Loss VAE: 0.2072, Loss GAN: 0.6998, Loss D: 1.3790\n",
            "Epoch [16/20], Step [300/468], Loss VAE: 0.2153, Loss GAN: 0.6649, Loss D: 1.3815\n",
            "Epoch [16/20], Step [400/468], Loss VAE: 0.2230, Loss GAN: 0.7093, Loss D: 1.3878\n",
            "Epoch [17/20], Step [0/468], Loss VAE: 0.2040, Loss GAN: 0.7226, Loss D: 1.3864\n",
            "Epoch [17/20], Step [100/468], Loss VAE: 0.2226, Loss GAN: 0.7152, Loss D: 1.3861\n",
            "Epoch [17/20], Step [200/468], Loss VAE: 0.1980, Loss GAN: 0.7171, Loss D: 1.3879\n",
            "Epoch [17/20], Step [300/468], Loss VAE: 0.2016, Loss GAN: 0.7114, Loss D: 1.3859\n",
            "Epoch [17/20], Step [400/468], Loss VAE: 0.2085, Loss GAN: 0.7066, Loss D: 1.3841\n",
            "Epoch [18/20], Step [0/468], Loss VAE: 0.2041, Loss GAN: 0.7341, Loss D: 1.3863\n",
            "Epoch [18/20], Step [100/468], Loss VAE: 0.2131, Loss GAN: 0.6979, Loss D: 1.4050\n",
            "Epoch [18/20], Step [200/468], Loss VAE: 0.2172, Loss GAN: 0.7326, Loss D: 1.3820\n",
            "Epoch [18/20], Step [300/468], Loss VAE: 0.2139, Loss GAN: 0.7254, Loss D: 1.3833\n",
            "Epoch [18/20], Step [400/468], Loss VAE: 0.2104, Loss GAN: 0.7233, Loss D: 1.3862\n",
            "Epoch [19/20], Step [0/468], Loss VAE: 0.2214, Loss GAN: 0.7070, Loss D: 1.3895\n",
            "Epoch [19/20], Step [100/468], Loss VAE: 0.2054, Loss GAN: 0.7220, Loss D: 1.3871\n",
            "Epoch [19/20], Step [200/468], Loss VAE: 0.1998, Loss GAN: 0.6927, Loss D: 1.3844\n",
            "Epoch [19/20], Step [300/468], Loss VAE: 0.2024, Loss GAN: 0.6905, Loss D: 1.3827\n",
            "Epoch [19/20], Step [400/468], Loss VAE: 0.2131, Loss GAN: 0.7077, Loss D: 1.3906\n"
          ]
        }
      ],
      "source": [
        "for epoch in range(epochs):\n",
        "    for i, (images, labels) in enumerate(train_loader):\n",
        "        images = images.to(device)\n",
        "        labels = labels.to(device)\n",
        "\n",
        "        # ====== Обучение энкодера и декодера ======\n",
        "        optimizer_E.zero_grad()\n",
        "        optimizer_D.zero_grad()\n",
        "\n",
        "        real_labels = torch.ones(batch_size, 1).to(device)\n",
        "        fake_labels = torch.zeros(batch_size, 1).to(device)\n",
        "\n",
        "        # Кодирование\n",
        "        mu, logvar = encoder(images, labels)\n",
        "        z = mu + torch.exp(0.5 * logvar) * torch.randn_like(logvar)\n",
        "\n",
        "        # Декодирование\n",
        "        recon_images = decoder(z, labels)\n",
        "\n",
        "        # Потери VAE\n",
        "        loss_recon = criterion_recon(recon_images, images)\n",
        "        loss_kl = -0.5 * torch.sum(1 + logvar - mu.pow(2) - logvar.exp())\n",
        "        loss_vae = loss_recon + 0.0001 * loss_kl\n",
        "\n",
        "        # Потери GAN\n",
        "        fake_score = discriminator(recon_images, labels)\n",
        "        loss_gan = criterion_gan(fake_score, real_labels)\n",
        "\n",
        "        # Общий loss\n",
        "        loss_E_D = loss_vae + loss_gan\n",
        "        loss_E_D.backward()\n",
        "        optimizer_E.step()\n",
        "        optimizer_D.step()\n",
        "\n",
        "        # ====== Обучение дискриминатора ======\n",
        "        optimizer_Dis.zero_grad()\n",
        "\n",
        "        # Потери на реальных данных\n",
        "        real_score = discriminator(images, labels)\n",
        "        loss_real = criterion_gan(real_score, real_labels)\n",
        "\n",
        "        # Потери на фейковых данных\n",
        "        fake_score = discriminator(recon_images.detach(), labels)\n",
        "        loss_fake = criterion_gan(fake_score, fake_labels)\n",
        "\n",
        "        # Общий loss\n",
        "        loss_Dis = loss_real + loss_fake\n",
        "        loss_Dis.backward()\n",
        "        optimizer_Dis.step()\n",
        "\n",
        "        if i % 100 == 0:\n",
        "            print(f\"Epoch [{epoch}/{epochs}], Step [{i}/{len(train_loader)}], \"\n",
        "                  f\"Loss VAE: {loss_vae.item():.4f}, Loss GAN: {loss_gan.item():.4f}, \"\n",
        "                  f\"Loss D: {loss_Dis.item():.4f}\")"
      ]
    },
    {
      "cell_type": "markdown",
      "metadata": {
        "id": "n6s5F2GBBsM7"
      },
      "source": [
        "# Оценка модели"
      ]
    },
    {
      "cell_type": "code",
      "execution_count": 11,
      "metadata": {
        "colab": {
          "base_uri": "https://localhost:8080/"
        },
        "id": "Lw4bo_65mqGC",
        "outputId": "1a04f102-4f1a-4f0a-eada-d0bbb82a8c6b"
      },
      "outputs": [
        {
          "data": {
            "text/plain": [
              "ConvDiscriminator(\n",
              "  (label_embedding): Embedding(10, 10)\n",
              "  (conv_layers): Sequential(\n",
              "    (0): Conv2d(1, 32, kernel_size=(4, 4), stride=(2, 2), padding=(1, 1))\n",
              "    (1): LeakyReLU(negative_slope=0.2)\n",
              "    (2): Conv2d(32, 64, kernel_size=(4, 4), stride=(2, 2), padding=(1, 1))\n",
              "    (3): LeakyReLU(negative_slope=0.2)\n",
              "    (4): Conv2d(64, 128, kernel_size=(4, 4), stride=(2, 2), padding=(1, 1))\n",
              "    (5): LeakyReLU(negative_slope=0.2)\n",
              "    (6): Conv2d(128, 256, kernel_size=(4, 4), stride=(2, 2), padding=(1, 1))\n",
              "    (7): LeakyReLU(negative_slope=0.2)\n",
              "  )\n",
              "  (fc): Sequential(\n",
              "    (0): Linear(in_features=266, out_features=1, bias=True)\n",
              "    (1): Sigmoid()\n",
              "  )\n",
              ")"
            ]
          },
          "execution_count": 11,
          "metadata": {},
          "output_type": "execute_result"
        }
      ],
      "source": [
        "encoder.eval()\n",
        "decoder.eval()\n",
        "discriminator.eval()"
      ]
    },
    {
      "cell_type": "code",
      "execution_count": null,
      "metadata": {
        "colab": {
          "base_uri": "https://localhost:8080/"
        },
        "id": "zhsfPUF5AwjB",
        "outputId": "bfdd6850-1d64-475f-c42f-d3aa40035a25"
      },
      "outputs": [
        {
          "name": "stdout",
          "output_type": "stream",
          "text": [
            "Test Loss VAE: 0.1665, Test Loss GAN: 0.6375, Test Loss D: 1.3753\n"
          ]
        }
      ],
      "source": [
        "total_loss_vae = 0\n",
        "total_loss_gan = 0\n",
        "total_loss_dis = 0\n",
        "num_batches = 0\n",
        "\n",
        "with torch.no_grad():\n",
        "    for images, labels in test_loader:\n",
        "        images = images.to(device)\n",
        "        labels = labels.to(device)\n",
        "        batch_size = images.size(0)\n",
        "\n",
        "        # Encoding и decoding\n",
        "        mu, logvar = encoder(images, labels)\n",
        "        z = mu + torch.exp(0.5 * logvar) * torch.randn_like(logvar)\n",
        "        recon_images = decoder(z, labels)\n",
        "\n",
        "        # Вычисляем потери\n",
        "        loss_recon = criterion_recon(recon_images, images)\n",
        "        loss_kl = -0.5 * torch.sum(1 + logvar - mu.pow(2) - logvar.exp())\n",
        "        loss_vae = loss_recon + 0.00005 * loss_kl\n",
        "\n",
        "        fake_score = discriminator(recon_images, labels)\n",
        "        loss_gan = criterion_gan(fake_score, torch.ones(batch_size, 1).to(device))\n",
        "\n",
        "        real_score = discriminator(images, labels)\n",
        "        loss_real = criterion_gan(real_score, torch.ones(batch_size, 1).to(device))\n",
        "        fake_score = discriminator(recon_images.detach(), labels)\n",
        "        loss_fake = criterion_gan(fake_score, torch.zeros(batch_size, 1).to(device))\n",
        "        loss_dis = loss_real + loss_fake\n",
        "\n",
        "        # Пересчет суммы потерь\n",
        "        total_loss_vae += loss_vae.item()\n",
        "        total_loss_gan += loss_gan.item()\n",
        "        total_loss_dis += loss_dis.item()\n",
        "        num_batches += 1\n",
        "\n",
        "# Вычисление средних потерь\n",
        "avg_loss_vae = total_loss_vae / num_batches\n",
        "avg_loss_gan = total_loss_gan / num_batches\n",
        "avg_loss_dis = total_loss_dis / num_batches\n",
        "\n",
        "print(f\"Test Loss VAE: {avg_loss_vae:.4f}, Test Loss GAN: {avg_loss_gan:.4f}, Test Loss D: {avg_loss_dis:.4f}\")"
      ]
    },
    {
      "cell_type": "markdown",
      "metadata": {
        "id": "b8JNalCMlIKO"
      },
      "source": [
        "# Генерация изображений\n"
      ]
    },
    {
      "cell_type": "code",
      "execution_count": 13,
      "metadata": {
        "id": "pom7-fgnlKPy"
      },
      "outputs": [],
      "source": [
        "def generate_images(decoder, latent_dim, num_classes, device):\n",
        "    with torch.no_grad():\n",
        "        z = torch.randn(10, latent_dim).to(device)\n",
        "        labels = torch.arange(0, 10).to(device)\n",
        "        gen_images = decoder(z, labels).cpu()\n",
        "        gen_images = gen_images * 0.5 + 0.5  # Денормализация\n",
        "        return gen_images"
      ]
    },
    {
      "cell_type": "markdown",
      "metadata": {
        "id": "vLEYQTx7lMWe"
      },
      "source": [
        "# Визуализация\n"
      ]
    },
    {
      "cell_type": "code",
      "execution_count": null,
      "metadata": {
        "colab": {
          "base_uri": "https://localhost:8080/",
          "height": 144
        },
        "id": "BNd3PYLFlLjB",
        "outputId": "75763756-4d7a-47a8-d166-4c01135ed74f"
      },
      "outputs": [
        {
          "data": {
            "image/png": "[encoded data removed]",
            "text/plain": [
              "<Figure size 2000x200 with 10 Axes>"
            ]
          },
          "metadata": {},
          "output_type": "display_data"
        }
      ],
      "source": [
        "gen_images = generate_images(decoder, latent_dim, num_classes, device)\n",
        "fig, axes = plt.subplots(1, 10, figsize=(20, 2))\n",
        "for i, ax in enumerate(axes):\n",
        "    ax.imshow(gen_images[i].squeeze(), cmap=\"gray\")\n",
        "    ax.axis(\"off\")\n",
        "plt.show()"
      ]
    },
    {
      "cell_type": "code",
      "execution_count": null,
      "metadata": {
        "colab": {
          "base_uri": "https://localhost:8080/",
          "height": 564
        },
        "id": "C_yQfJpT1Bka",
        "outputId": "b092c022-7cb9-4e34-a614-ebff8a296193"
      },
      "outputs": [
        {
          "data": {
            "image/png": "[encoded data removed]",
            "text/plain": [
              "<Figure size 800x600 with 2 Axes>"
            ]
          },
          "metadata": {},
          "output_type": "display_data"
        }
      ],
      "source": [
        "import matplotlib.pyplot as plt\n",
        "from sklearn.decomposition import PCA\n",
        "\n",
        "\n",
        "# Получаем латентное представление батча\n",
        "images, labels = next(iter(train_loader))\n",
        "images = images.to(device)\n",
        "labels = labels.to(device)\n",
        "with torch.no_grad():\n",
        "    mu, logvar = encoder(images, labels)\n",
        "    z = mu\n",
        "\n",
        "# Уменьшаем размерность до 2 с помощью PCA\n",
        "pca = PCA(n_components=2)\n",
        "z_2d = pca.fit_transform(z.cpu().numpy())\n",
        "\n",
        "# Визуализируем\n",
        "plt.figure(figsize=(8, 6))\n",
        "plt.scatter(z_2d[:, 0], z_2d[:, 1], c=labels.cpu().numpy(), cmap='viridis')\n",
        "plt.colorbar()\n",
        "plt.title('Latent Space Visualization')\n",
        "plt.xlabel('PCA Component 1')\n",
        "plt.ylabel('PCA Component 2')\n",
        "plt.show()"
      ]
    },
    {
      "cell_type": "code",
      "execution_count": null,
      "metadata": {
        "colab": {
          "base_uri": "https://localhost:8080/",
          "height": 261
        },
        "id": "FP1gzbf11LH2",
        "outputId": "3f463cd4-b3b0-4aa7-a240-e27e903a575d"
      },
      "outputs": [
        {
          "data": {
            "image/png": "[encoded data removed]",
            "text/plain": [
              "<Figure size 1500x300 with 20 Axes>"
            ]
          },
          "metadata": {},
          "output_type": "display_data"
        }
      ],
      "source": [
        "# Восстанавливаем батч с помощью декодера\n",
        "with torch.no_grad():\n",
        "    recon_images = decoder(z, labels).cpu()\n",
        "\n",
        "# Выводим оригинальное изображение и восстановленное\n",
        "fig, axes = plt.subplots(nrows=2, ncols=10, figsize=(15, 3))\n",
        "for i in range(10):\n",
        "    axes[0, i].imshow(images[i].squeeze().cpu(), cmap='gray')\n",
        "    axes[0, i].axis('off')\n",
        "    axes[1, i].imshow(recon_images[i].squeeze(), cmap='gray')\n",
        "    axes[1, i].axis('off')\n",
        "\n",
        "axes[0, 0].set_ylabel('Original')\n",
        "axes[1, 0].set_ylabel('Reconstructed')\n",
        "plt.show()"
      ]
    },
    {
      "cell_type": "markdown",
      "metadata": {
        "id": "pvxI-zyQ2DsG"
      },
      "source": [
        "# Сохраняем обученную модель"
      ]
    },
    {
      "cell_type": "code",
      "execution_count": 17,
      "metadata": {
        "id": "oxULNeFG17f6"
      },
      "outputs": [],
      "source": [
        "import torch\n",
        "\n",
        "encoder_path = 'encoder_model.pth'\n",
        "decoder_path = 'decoder_model.pth'\n",
        "discriminator_path = 'discriminator_model.pth'\n",
        "\n",
        "torch.save(encoder.state_dict(), encoder_path)\n",
        "torch.save(decoder.state_dict(), decoder_path)\n",
        "torch.save(discriminator.state_dict(), discriminator_path)"
      ]
    }
  ],
  "metadata": {
    "accelerator": "GPU",
    "colab": {
      "gpuType": "T4",
      "provenance": []
    },
    "kernelspec": {
      "display_name": "Python 3",
      "name": "python3"
    },
    "language_info": {
      "codemirror_mode": {
        "name": "ipython",
        "version": 3
      },
      "file_extension": ".py",
      "mimetype": "text/x-python",
      "name": "python",
      "nbconvert_exporter": "python",
      "pygments_lexer": "ipython3",
      "version": "3.13.1"
    }
  },
  "nbformat": 4,
  "nbformat_minor": 0
}
